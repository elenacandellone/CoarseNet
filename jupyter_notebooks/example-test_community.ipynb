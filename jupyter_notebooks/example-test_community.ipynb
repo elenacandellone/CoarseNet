{
 "cells": [
  {
   "cell_type": "code",
   "execution_count": 4,
   "metadata": {},
   "outputs": [],
   "source": [
    "import os\n",
    "# If you are running this from ~/python_scripts/mycode.py\n",
    "# change directory to the root of the repository\n",
    "# All utils assume that the working directory is the root directory of the github folder\n",
    "os.chdir('../')"
   ]
  },
  {
   "cell_type": "code",
   "execution_count": 5,
   "metadata": {},
   "outputs": [
    {
     "ename": "ModuleNotFoundError",
     "evalue": "No module named 'graph_tool'",
     "output_type": "error",
     "traceback": [
      "\u001b[0;31m---------------------------------------------------------------------------\u001b[0m",
      "\u001b[0;31mModuleNotFoundError\u001b[0m                       Traceback (most recent call last)",
      "\u001b[1;32m/Users/adriana/_work/collabathon_accelnet/coarse-graining-in-networks/jupyter_notebooks/example-test_community.ipynb Cell 2\u001b[0m line \u001b[0;36m9\n\u001b[1;32m      <a href='vscode-notebook-cell:/Users/adriana/_work/collabathon_accelnet/coarse-graining-in-networks/jupyter_notebooks/example-test_community.ipynb#W0sZmlsZQ%3D%3D?line=6'>7</a>\u001b[0m \u001b[39mfrom\u001b[39;00m \u001b[39mutils\u001b[39;00m\u001b[39m.\u001b[39;00m\u001b[39mrandom_burning\u001b[39;00m \u001b[39mimport\u001b[39;00m random_burning\n\u001b[1;32m      <a href='vscode-notebook-cell:/Users/adriana/_work/collabathon_accelnet/coarse-graining-in-networks/jupyter_notebooks/example-test_community.ipynb#W0sZmlsZQ%3D%3D?line=7'>8</a>\u001b[0m \u001b[39mfrom\u001b[39;00m \u001b[39mutils\u001b[39;00m\u001b[39m.\u001b[39;00m\u001b[39mspatial_coarse_grain\u001b[39;00m \u001b[39mimport\u001b[39;00m spatial_coarse_grain\n\u001b[0;32m----> <a href='vscode-notebook-cell:/Users/adriana/_work/collabathon_accelnet/coarse-graining-in-networks/jupyter_notebooks/example-test_community.ipynb#W0sZmlsZQ%3D%3D?line=8'>9</a>\u001b[0m \u001b[39mfrom\u001b[39;00m \u001b[39mutils\u001b[39;00m\u001b[39m.\u001b[39;00m\u001b[39mtest_community\u001b[39;00m  \u001b[39mimport\u001b[39;00m sbm_comparison\n",
      "File \u001b[0;32m~/_work/collabathon_accelnet/coarse-graining-in-networks/utils/test_community.py:1\u001b[0m\n\u001b[0;32m----> 1\u001b[0m \u001b[39mimport\u001b[39;00m \u001b[39mgraph_tool\u001b[39;00m\u001b[39m.\u001b[39;00m\u001b[39mall\u001b[39;00m \u001b[39mas\u001b[39;00m \u001b[39mgt\u001b[39;00m\n\u001b[1;32m      2\u001b[0m \u001b[39mimport\u001b[39;00m \u001b[39mnumpy\u001b[39;00m \u001b[39mas\u001b[39;00m \u001b[39mnp\u001b[39;00m\n\u001b[1;32m      3\u001b[0m \u001b[39mfrom\u001b[39;00m \u001b[39msklearn\u001b[39;00m\u001b[39m.\u001b[39;00m\u001b[39mmetrics\u001b[39;00m \u001b[39mimport\u001b[39;00m normalized_mutual_info_score\n",
      "\u001b[0;31mModuleNotFoundError\u001b[0m: No module named 'graph_tool'"
     ]
    }
   ],
   "source": [
    "import numpy as np\n",
    "import networkx as nx\n",
    "import random\n",
    "import pandas as pd\n",
    "\n",
    "\n",
    "from utils.random_burning import random_burning\n",
    "from utils.spatial_coarse_grain import spatial_coarse_grain\n",
    "from utils.test_community  import sbm_comparison"
   ]
  },
  {
   "cell_type": "code",
   "execution_count": 3,
   "metadata": {},
   "outputs": [],
   "source": [
    "G = nx.karate_club_graph()\n",
    "\n",
    "# a. run coarse grain \n",
    "radius =0.7\n",
    "Gg, nG_dict = spatial_coarse_grain(G,radius)\n",
    "\n",
    "\n",
    "# b. test\n",
    "nmi = sbm_comparison(G, Gg, nG_dict)\n",
    "print(\"NMI =\", nmi)\n"
   ]
  },
  {
   "cell_type": "code",
   "execution_count": 8,
   "metadata": {},
   "outputs": [
    {
     "name": "stdout",
     "output_type": "stream",
     "text": [
      "NMI = 0.08102909282681874\n"
     ]
    }
   ],
   "source": [
    "# a. run coarse grain \n",
    "radius =2\n",
    "Gg, nG_dict = random_burning(G, radius)\n",
    "\n",
    "# b. test\n",
    "nmi = sbm_comparison(G, Gg, nG_dict)\n",
    "print(\"NMI =\", nmi)\n"
   ]
  }
 ],
 "metadata": {
  "kernelspec": {
   "display_name": "Python 3",
   "language": "python",
   "name": "python3"
  },
  "language_info": {
   "codemirror_mode": {
    "name": "ipython",
    "version": 3
   },
   "file_extension": ".py",
   "mimetype": "text/x-python",
   "name": "python",
   "nbconvert_exporter": "python",
   "pygments_lexer": "ipython3",
   "version": "3.11.4"
  }
 },
 "nbformat": 4,
 "nbformat_minor": 2
}
